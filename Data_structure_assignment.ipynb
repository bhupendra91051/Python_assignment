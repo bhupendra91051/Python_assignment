{
  "nbformat": 4,
  "nbformat_minor": 0,
  "metadata": {
    "colab": {
      "provenance": []
    },
    "kernelspec": {
      "name": "python3",
      "display_name": "Python 3"
    },
    "language_info": {
      "name": "python"
    }
  },
  "cells": [
    {
      "cell_type": "markdown",
      "source": [
        "#Assignment : Python - Data Structure"
      ],
      "metadata": {
        "id": "d37_LzDW09GO"
      }
    },
    {
      "cell_type": "markdown",
      "source": [
        "1. What are data structures, and why are they important?\n",
        "\n",
        "Data structures are logical ways to organize and store data so it can be used efficiently. Examples include lists, tuples, dictionaries, and sets. They help in accessing, processing, and managing data easily. Choosing the right data structure improves the speed and memory usage of a program. Without them, handling large or complex data would be inefficient and error-prone.\n",
        "\n",
        "2. Explain the difference between mutable and immutable data types with examples.\n",
        "\n",
        "Mutable types allow changes after creation (like adding or removing items), e.g., lists and dictionaries. Immutable types cannot be changed once defined, e.g., strings and tuples. This affects how data behaves when passed to functions or reused. Mutability is important when deciding how safe or flexible data should be.\n",
        "\n",
        "3. What are the main differences between lists and tuples in Python?\n",
        "\n",
        "Lists are mutable, meaning you can change, add, or remove elements. Tuples are immutable, meaning once created, their content cannot be altered. Lists are commonly used for dynamic data, while tuples are used when data should remain constant. Tuples are slightly faster and use less memory compared to lists.\n",
        "\n",
        "4. Describe how dictionaries store data.\n",
        "\n",
        "Dictionaries store data as key-value pairs. Each key is unique and maps directly to a value. Internally, Python uses a hash table for fast access, which means looking up a value by key is very efficient. This structure is ideal for storing related information, such as a person's name and age.\n",
        "\n",
        "5. Why might you use a set instead of a list in Python?\n",
        "\n",
        "Sets are used when you need to store only unique values. They automatically remove duplicates and are faster for checking whether an item exists. Unlike lists, sets do not maintain order, which makes them better for tasks involving comparisons, unions, intersections, and uniqueness checks.\n",
        "\n",
        "6. What is a string in Python, and how is it different from a list?\n",
        "\n",
        "A string is an immutable sequence of characters. A list is a mutable collection that can hold items of any data type, including characters. You cannot change a string once it's created, but you can change elements in a list. Also, lists can hold mixed data types; strings cannot.\n",
        "\n",
        "7. How do tuples ensure data integrity in Python?\n",
        "\n",
        "Tuples are immutable, so their values cannot be changed after creation. This protects the data from accidental modification, which is helpful when you want to ensure that a fixed set of values stays constant. Tuples are often used for read-only or sensitive data that should not change.\n",
        "\n",
        "8. What is a hash table, and how does it relate to dictionaries in Python?\n",
        "\n",
        "A hash table is a data structure that uses a hash function to map keys to positions in memory. Python dictionaries use hash tables to store and retrieve key-value pairs quickly. This makes data lookup in dictionaries very fast on average, even with large amounts of data.\n",
        "\n",
        "9. Can lists contain different data types in Python?\n",
        "\n",
        "Yes, Python lists can hold elements of different data types, such as integers, strings, booleans, and even other lists or objects. This flexibility makes lists very powerful for handling mixed or complex data in a single structure.\n",
        "\n",
        "10. Explain why strings are immutable in Python.\n",
        "\n",
        "Strings are immutable for performance and security reasons. Immutability allows strings to be reused and shared efficiently, reducing memory usage. It also prevents accidental changes, which helps in debugging and writing safer code, especially when strings are passed between functions.\n",
        "\n",
        "11. What advantages do dictionaries offer over lists for certain tasks?\n",
        "\n",
        "Dictionaries allow data to be stored using descriptive keys, making it easier to understand and access. They provide faster lookups when you know the key, unlike lists where you must search through values. For example, retrieving a user’s profile by name is much easier with a dictionary.\n",
        "\n",
        "12. How do sets handle duplicate values in Python?\n",
        "\n",
        "Sets automatically remove duplicate values. If you try to add the same value multiple times, it only appears once. This makes sets useful for filtering unique data and performing mathematical operations like union and intersection.\n",
        "\n",
        "13. Describe a scenario where using a tuple would be preferable over a list.\n",
        "\n",
        "Tuples are preferable when you want to store data that should not change, such as geographic coordinates (latitude, longitude) or fixed settings. Their immutability ensures that the data remains secure and unchanged throughout the program.\n",
        "\n",
        "14. How does the “in” keyword work differently for lists and dictionaries?\n",
        "\n",
        "In a list, the in keyword checks if a value exists in the list. In a dictionary, it checks if a key exists, not the value. This difference is important when writing conditional logic or checking data presence.\n",
        "\n",
        "15. Can you modify the elements of a tuple? Explain why or why not.\n",
        "\n",
        "No, you cannot modify elements of a tuple because they are immutable. Once a tuple is created, its content is fixed. This helps in maintaining data consistency and prevents accidental updates.\n",
        "\n",
        "16. What is a nested dictionary, and give an example of its use case.\n",
        "\n",
        "A nested dictionary is a dictionary where values can be other dictionaries. It is useful for representing hierarchical data such as user profiles with multiple attributes or storing structured configuration files.\n",
        "\n",
        "17. Describe the time complexity of accessing elements in a dictionary.\n",
        "\n",
        "Accessing an element in a dictionary has an average time complexity of O(1), meaning it takes constant time regardless of the size of the dictionary. This makes dictionaries highly efficient for lookups.\n",
        "\n",
        "18. In what situations are lists preferred over dictionaries?\n",
        "\n",
        "Lists are preferred when the order of elements matters, or when you just need to store items in sequence without associating them with keys. They're also better when you need to iterate through items based on their position.\n",
        "\n",
        "19. Why are dictionaries considered unordered, and how does that affect data retrieval?\n",
        "\n",
        "Historically, dictionaries were unordered, meaning the order of key-value pairs was not guaranteed. Since Python 3.7, insertion order is preserved, but logically, dictionaries are still treated as unordered because access is based on keys, not position.\n",
        "\n",
        "20. Explain the difference between a list and a dictionary in terms of data retrieval.\n",
        "\n",
        "In a list, data is retrieved by index, which represents position. In a dictionary, data is retrieved using keys, which allows more meaningful and faster access, especially when dealing with labeled or structured data."
      ],
      "metadata": {
        "id": "Z3z3CMLX1HS6"
      }
    },
    {
      "cell_type": "markdown",
      "source": [
        "#Practical Questions\n",
        "\n"
      ],
      "metadata": {
        "id": "pVp9v7uV19Bn"
      }
    },
    {
      "cell_type": "code",
      "execution_count": 31,
      "metadata": {
        "colab": {
          "base_uri": "https://localhost:8080/"
        },
        "id": "i5S2zfeq07zl",
        "outputId": "dd9f1c0e-c3c6-43d2-c1bb-22681963e963"
      },
      "outputs": [
        {
          "output_type": "stream",
          "name": "stdout",
          "text": [
            "Bhupendra Kumar\n"
          ]
        }
      ],
      "source": [
        "# 1. Write a code to Create a string with your name and print it\n",
        "name = \"Bhupendra Kumar\"\n",
        "print(name)\n",
        "\n",
        "\n"
      ]
    },
    {
      "cell_type": "code",
      "source": [
        "# 2. Write a code to Find the length of the string \"Hello World\"\n",
        "length = len(\"Hello World\")\n",
        "print(length)\n",
        "\n"
      ],
      "metadata": {
        "colab": {
          "base_uri": "https://localhost:8080/"
        },
        "id": "7G_nalpk2RFi",
        "outputId": "c605ce71-64d2-4990-f902-d2758a2c4bda"
      },
      "execution_count": 32,
      "outputs": [
        {
          "output_type": "stream",
          "name": "stdout",
          "text": [
            "11\n"
          ]
        }
      ]
    },
    {
      "cell_type": "code",
      "source": [
        "# 3. Write a code to Slice the first 3 characters from \"Python Programming\"\n",
        "sliced = \"Python Programming\"[:3]\n",
        "print(sliced)\n",
        "\n"
      ],
      "metadata": {
        "colab": {
          "base_uri": "https://localhost:8080/"
        },
        "id": "yt7CkQRj2WcH",
        "outputId": "69b09d34-2c1c-476d-aefc-ec785c9e99e4"
      },
      "execution_count": 33,
      "outputs": [
        {
          "output_type": "stream",
          "name": "stdout",
          "text": [
            "Pyt\n"
          ]
        }
      ]
    },
    {
      "cell_type": "code",
      "source": [
        "# 4. Write a code to Convert \"hello\" to uppercase\n",
        "upper_str = \"hello\".upper()\n",
        "print(upper_str)\n",
        "\n"
      ],
      "metadata": {
        "colab": {
          "base_uri": "https://localhost:8080/"
        },
        "id": "b3LBSYsq2b5G",
        "outputId": "205c40b2-9dc0-4369-9e3f-25c64f1e6b94"
      },
      "execution_count": 34,
      "outputs": [
        {
          "output_type": "stream",
          "name": "stdout",
          "text": [
            "HELLO\n"
          ]
        }
      ]
    },
    {
      "cell_type": "code",
      "source": [
        "# 5. Write a code to Replace \"apple\" with \"orange\" in \"I like apple\"\n",
        "replaced = \"I like apple\".replace(\"apple\", \"orange\")\n",
        "print(replaced)\n"
      ],
      "metadata": {
        "colab": {
          "base_uri": "https://localhost:8080/"
        },
        "id": "j97NoA6w2fyL",
        "outputId": "68098b82-8a10-44f3-f32b-6af86c987241"
      },
      "execution_count": 35,
      "outputs": [
        {
          "output_type": "stream",
          "name": "stdout",
          "text": [
            "I like orange\n"
          ]
        }
      ]
    },
    {
      "cell_type": "code",
      "source": [
        "# 6. Write a code to Create a list with numbers 1 to 5 and print it\n",
        "numbers = [1, 2, 3, 4, 5]\n",
        "print(numbers)\n",
        "\n",
        "\n"
      ],
      "metadata": {
        "colab": {
          "base_uri": "https://localhost:8080/"
        },
        "id": "_sbmgSDB2mzh",
        "outputId": "3c5af531-26aa-4a70-d614-55daa75cc433"
      },
      "execution_count": 36,
      "outputs": [
        {
          "output_type": "stream",
          "name": "stdout",
          "text": [
            "[1, 2, 3, 4, 5]\n"
          ]
        }
      ]
    },
    {
      "cell_type": "code",
      "source": [
        "# 7.  Write a code toAppend the number 10 to the list [1, 2, 3, 4]\n",
        "lst = [1, 2, 3, 4]\n",
        "lst.append(10)\n",
        "print(lst)\n",
        "\n"
      ],
      "metadata": {
        "colab": {
          "base_uri": "https://localhost:8080/"
        },
        "id": "LTX71u7x2tSx",
        "outputId": "07b877be-17b1-44cb-c41b-a15c49072634"
      },
      "execution_count": 37,
      "outputs": [
        {
          "output_type": "stream",
          "name": "stdout",
          "text": [
            "[1, 2, 3, 4, 10]\n"
          ]
        }
      ]
    },
    {
      "cell_type": "code",
      "source": [
        "# 8. Write a code to Remove the number 3 from the list [1, 2, 3, 4, 5]\n",
        "lst2 = [1, 2, 3, 4, 5]\n",
        "lst2.remove(3)\n",
        "print(lst2)\n"
      ],
      "metadata": {
        "colab": {
          "base_uri": "https://localhost:8080/"
        },
        "id": "sbuumMhy2v4d",
        "outputId": "f2897cf6-9f02-42b4-eaef-664e4e6bd3bb"
      },
      "execution_count": 38,
      "outputs": [
        {
          "output_type": "stream",
          "name": "stdout",
          "text": [
            "[1, 2, 4, 5]\n"
          ]
        }
      ]
    },
    {
      "cell_type": "code",
      "source": [
        "\n",
        "# 9. Write a code to Access the second element in the list ['a', 'b', 'c', 'd']\n",
        "letters = ['a', 'b', 'c', 'd']\n",
        "print(letters[1])\n",
        "\n"
      ],
      "metadata": {
        "colab": {
          "base_uri": "https://localhost:8080/"
        },
        "id": "Z5QQ7_KO2zhC",
        "outputId": "5d6bee34-19ff-4cf4-db32-53db43eeafb9"
      },
      "execution_count": 39,
      "outputs": [
        {
          "output_type": "stream",
          "name": "stdout",
          "text": [
            "b\n"
          ]
        }
      ]
    },
    {
      "cell_type": "code",
      "source": [
        "# 10. Write a code to Reverse the list [10, 20, 30, 40, 50]\n",
        "reversed_list = [10, 20, 30, 40, 50][::-1]\n",
        "print(reversed_list)"
      ],
      "metadata": {
        "colab": {
          "base_uri": "https://localhost:8080/"
        },
        "id": "KE1FR7IQ227H",
        "outputId": "4c545f20-2735-4c71-c3d4-d61a0cb258ea"
      },
      "execution_count": 40,
      "outputs": [
        {
          "output_type": "stream",
          "name": "stdout",
          "text": [
            "[50, 40, 30, 20, 10]\n"
          ]
        }
      ]
    },
    {
      "cell_type": "code",
      "source": [
        "# 11. Write a code to Create a tuple with elements 100, 200, 300 and print it\n",
        "tup = (100, 200, 300)\n",
        "print(tup)\n",
        "\n",
        "\n"
      ],
      "metadata": {
        "colab": {
          "base_uri": "https://localhost:8080/"
        },
        "id": "Ms9vOX1b25OL",
        "outputId": "6da6e840-9fc6-4e0c-ef26-56002cce2f96"
      },
      "execution_count": 41,
      "outputs": [
        {
          "output_type": "stream",
          "name": "stdout",
          "text": [
            "(100, 200, 300)\n"
          ]
        }
      ]
    },
    {
      "cell_type": "code",
      "source": [
        "# 12. Write a code to Access the second-to-last element of the tuple ('red', 'green', 'blue', 'yellow')\n",
        "colors = ('red', 'green', 'blue', 'yellow')\n",
        "print(colors[-2])\n"
      ],
      "metadata": {
        "colab": {
          "base_uri": "https://localhost:8080/"
        },
        "id": "crzFw2673A1j",
        "outputId": "e191cae6-b38b-4b96-f6d2-032a82df3ec8"
      },
      "execution_count": 42,
      "outputs": [
        {
          "output_type": "stream",
          "name": "stdout",
          "text": [
            "blue\n"
          ]
        }
      ]
    },
    {
      "cell_type": "code",
      "source": [
        "\n",
        "# 13. Write a code to Find the minimum number in the tuple (10, 20, 5, 15)\n",
        "print(min((10, 20, 5, 15)))\n",
        "\n"
      ],
      "metadata": {
        "colab": {
          "base_uri": "https://localhost:8080/"
        },
        "id": "O0xcFWjJ3DeM",
        "outputId": "d35be378-c9e9-43ec-f55c-075fd84ba32d"
      },
      "execution_count": 43,
      "outputs": [
        {
          "output_type": "stream",
          "name": "stdout",
          "text": [
            "5\n"
          ]
        }
      ]
    },
    {
      "cell_type": "code",
      "source": [
        "# 14. Write a code to Find the index of \"cat\" in the tuple ('dog', 'cat', 'rabbit')\n",
        "animals = ('dog', 'cat', 'rabbit')\n",
        "print(animals.index(\"cat\"))\n",
        "\n"
      ],
      "metadata": {
        "colab": {
          "base_uri": "https://localhost:8080/"
        },
        "id": "CcGMrovT3Ftr",
        "outputId": "4a79d71d-2dfb-4d9b-e449-43d08a4894c7"
      },
      "execution_count": 44,
      "outputs": [
        {
          "output_type": "stream",
          "name": "stdout",
          "text": [
            "1\n"
          ]
        }
      ]
    },
    {
      "cell_type": "code",
      "source": [
        "# 15. Write a code to Create a tuple with fruits and check if \"kiwi\" is in it\n",
        "fruits = ('apple', 'banana', 'mango')\n",
        "print(\"kiwi\" in fruits)"
      ],
      "metadata": {
        "colab": {
          "base_uri": "https://localhost:8080/"
        },
        "id": "TFaByzcb3H8M",
        "outputId": "4a277d6f-ded3-48b1-b367-756ea488908b"
      },
      "execution_count": 45,
      "outputs": [
        {
          "output_type": "stream",
          "name": "stdout",
          "text": [
            "False\n"
          ]
        }
      ]
    },
    {
      "cell_type": "code",
      "source": [
        "# 16. Write a code to Create a set with elements 'a', 'b', 'c' and print it\n",
        "s = {'a', 'b', 'c'}\n",
        "print(s)\n",
        "\n"
      ],
      "metadata": {
        "colab": {
          "base_uri": "https://localhost:8080/"
        },
        "id": "kwUNE5KK3IjK",
        "outputId": "5070cdd6-6561-413b-df21-aa00070fa335"
      },
      "execution_count": 46,
      "outputs": [
        {
          "output_type": "stream",
          "name": "stdout",
          "text": [
            "{'a', 'c', 'b'}\n"
          ]
        }
      ]
    },
    {
      "cell_type": "code",
      "source": [
        "# 17. Write a code to Clear all elements from the set {1, 2, 3, 4, 5}\n",
        "s2 = {1, 2, 3, 4, 5}\n",
        "s2.clear()\n",
        "print(s2)\n",
        "\n"
      ],
      "metadata": {
        "colab": {
          "base_uri": "https://localhost:8080/"
        },
        "id": "fNRoy42l3RSv",
        "outputId": "5111d679-3b85-47a4-c982-be4678471a0a"
      },
      "execution_count": 47,
      "outputs": [
        {
          "output_type": "stream",
          "name": "stdout",
          "text": [
            "set()\n"
          ]
        }
      ]
    },
    {
      "cell_type": "code",
      "source": [
        "# 18. Write a code to Remove the element 4 from the set {1, 2, 3, 4}\n",
        "s3 = {1, 2, 3, 4}\n",
        "s3.remove(4)\n",
        "print(s3)\n",
        "\n"
      ],
      "metadata": {
        "colab": {
          "base_uri": "https://localhost:8080/"
        },
        "id": "VYDM-09T3TnN",
        "outputId": "205d4613-429c-45a4-abc9-895426a04b20"
      },
      "execution_count": 48,
      "outputs": [
        {
          "output_type": "stream",
          "name": "stdout",
          "text": [
            "{1, 2, 3}\n"
          ]
        }
      ]
    },
    {
      "cell_type": "code",
      "source": [
        "# 19.  Write a code to Find the union of sets {1, 2, 3} and {3, 4, 5}\n",
        "set1 = {1, 2, 3}\n",
        "set2 = {3, 4, 5}\n",
        "print(set1.union(set2))\n",
        "\n"
      ],
      "metadata": {
        "colab": {
          "base_uri": "https://localhost:8080/"
        },
        "id": "e62rnsts3V5Y",
        "outputId": "d64acdf7-f504-405b-81de-966d92034501"
      },
      "execution_count": 49,
      "outputs": [
        {
          "output_type": "stream",
          "name": "stdout",
          "text": [
            "{1, 2, 3, 4, 5}\n"
          ]
        }
      ]
    },
    {
      "cell_type": "code",
      "source": [
        "# 20. Write a code to Find the intersection of sets {1, 2, 3} and {2, 3, 4}\n",
        "print({1, 2, 3}.intersection({2, 3, 4}))\n"
      ],
      "metadata": {
        "colab": {
          "base_uri": "https://localhost:8080/"
        },
        "id": "jRcigEUA3Xki",
        "outputId": "e34fcd25-47f4-45f1-e019-49709c90472e"
      },
      "execution_count": 50,
      "outputs": [
        {
          "output_type": "stream",
          "name": "stdout",
          "text": [
            "{2, 3}\n"
          ]
        }
      ]
    },
    {
      "cell_type": "code",
      "source": [
        "# 21. Write a code to Create a dictionary with keys \"name\", \"age\", and \"city\" and print it\n",
        "person = {\"name\": \"John\", \"age\": 30, \"city\": \"New York\"}\n",
        "print(person)\n"
      ],
      "metadata": {
        "colab": {
          "base_uri": "https://localhost:8080/"
        },
        "id": "dl4c6LJm3YHH",
        "outputId": "0ca91c6a-fabe-4c41-9266-338ba19f6ad5"
      },
      "execution_count": 51,
      "outputs": [
        {
          "output_type": "stream",
          "name": "stdout",
          "text": [
            "{'name': 'John', 'age': 30, 'city': 'New York'}\n"
          ]
        }
      ]
    },
    {
      "cell_type": "code",
      "source": [
        "\n",
        "# 22. Write a code to Add \"country\": \"USA\" to {'name': 'John', 'age': 25}\n",
        "person2 = {'name': 'John', 'age': 25}\n",
        "person2[\"country\"] = \"USA\"\n",
        "print(person2)\n"
      ],
      "metadata": {
        "colab": {
          "base_uri": "https://localhost:8080/"
        },
        "id": "Mrl9Jwcu3g7K",
        "outputId": "5d7d8d80-e9b5-42ed-a7b7-d9781fe968d0"
      },
      "execution_count": 52,
      "outputs": [
        {
          "output_type": "stream",
          "name": "stdout",
          "text": [
            "{'name': 'John', 'age': 25, 'country': 'USA'}\n"
          ]
        }
      ]
    },
    {
      "cell_type": "code",
      "source": [
        "\n",
        "# 23. Write a code to Access the value of \"name\" in {'name': 'Alice', 'age': 30}\n",
        "person3 = {'name': 'Alice', 'age': 30}\n",
        "print(person3[\"name\"])\n",
        "\n"
      ],
      "metadata": {
        "colab": {
          "base_uri": "https://localhost:8080/"
        },
        "id": "Rvleczrq3ipG",
        "outputId": "1f2702c0-7f42-4f10-9440-5c1b749ac098"
      },
      "execution_count": 53,
      "outputs": [
        {
          "output_type": "stream",
          "name": "stdout",
          "text": [
            "Alice\n"
          ]
        }
      ]
    },
    {
      "cell_type": "code",
      "source": [
        "# 24. Write a code to Remove the key \"age\" from {'name': 'Bob', 'age': 22, 'city': 'New York'}\n",
        "person4 = {'name': 'Bob', 'age': 22, 'city': 'New York'}\n",
        "del person4[\"age\"]\n",
        "print(person4)\n"
      ],
      "metadata": {
        "colab": {
          "base_uri": "https://localhost:8080/"
        },
        "id": "BxUhP8gy3kmN",
        "outputId": "5e43013c-4f12-4a3f-bc47-0ef42b5f1584"
      },
      "execution_count": 54,
      "outputs": [
        {
          "output_type": "stream",
          "name": "stdout",
          "text": [
            "{'name': 'Bob', 'city': 'New York'}\n"
          ]
        }
      ]
    },
    {
      "cell_type": "code",
      "source": [
        "\n",
        "# 25. Write a code to Check if \"city\" exists in {'name': 'Alice', 'city': 'Paris'}\n",
        "print(\"city\" in {'name': 'Alice', 'city': 'Paris'})\n"
      ],
      "metadata": {
        "colab": {
          "base_uri": "https://localhost:8080/"
        },
        "id": "AuiLab1J3nEa",
        "outputId": "079f7a15-5ebd-4782-ab2b-55d8d16f661a"
      },
      "execution_count": 55,
      "outputs": [
        {
          "output_type": "stream",
          "name": "stdout",
          "text": [
            "True\n"
          ]
        }
      ]
    },
    {
      "cell_type": "code",
      "source": [
        "# 26. Write a code to Create a list, a tuple, and a dictionary, and print them\n",
        "my_list = [1, 2, 3]\n",
        "my_tuple = (4, 5, 6)\n",
        "my_dict = {\"a\": 1, \"b\": 2}\n",
        "print(my_list)\n",
        "print(my_tuple)\n",
        "print(my_dict)\n",
        "\n"
      ],
      "metadata": {
        "colab": {
          "base_uri": "https://localhost:8080/"
        },
        "id": "0PiEoxyf3nwF",
        "outputId": "31fa3fc6-14bb-4ffb-8951-973576d18e4d"
      },
      "execution_count": 56,
      "outputs": [
        {
          "output_type": "stream",
          "name": "stdout",
          "text": [
            "[1, 2, 3]\n",
            "(4, 5, 6)\n",
            "{'a': 1, 'b': 2}\n"
          ]
        }
      ]
    },
    {
      "cell_type": "code",
      "source": [
        "\n",
        "# 27. Write a code to Create a list of 5 random numbers between 1 and 100, sort it, and print\n",
        "import random\n",
        "rand_nums = random.sample(range(1, 101), 5)\n",
        "rand_nums.sort()\n",
        "print(rand_nums)\n",
        "\n"
      ],
      "metadata": {
        "colab": {
          "base_uri": "https://localhost:8080/"
        },
        "id": "fsBhpnrT3tjN",
        "outputId": "33c0834f-0e08-4882-804c-d66988ac066a"
      },
      "execution_count": 57,
      "outputs": [
        {
          "output_type": "stream",
          "name": "stdout",
          "text": [
            "[36, 65, 66, 95, 100]\n"
          ]
        }
      ]
    },
    {
      "cell_type": "code",
      "source": [
        "# 28. Write a code to Create a list with strings and print the element at the third index\n",
        "str_list = [\"one\", \"two\", \"three\", \"four\", \"five\"]\n",
        "print(str_list[3])\n",
        "\n"
      ],
      "metadata": {
        "colab": {
          "base_uri": "https://localhost:8080/"
        },
        "id": "4KTaKbsY3xIv",
        "outputId": "ad9f8381-e02d-425f-9182-9f00a412c8b5"
      },
      "execution_count": 58,
      "outputs": [
        {
          "output_type": "stream",
          "name": "stdout",
          "text": [
            "four\n"
          ]
        }
      ]
    },
    {
      "cell_type": "code",
      "source": [
        "# 29. Write a code to Combine two dictionaries and print the result\n",
        "dict1 = {\"x\": 1, \"y\": 2}\n",
        "dict2 = {\"z\": 3}\n",
        "combined = {**dict1, **dict2}\n",
        "print(combined)\n",
        "\n"
      ],
      "metadata": {
        "colab": {
          "base_uri": "https://localhost:8080/"
        },
        "id": "Jsf09vKG3zfM",
        "outputId": "af73c5ed-1577-4846-9af5-95cc5d927132"
      },
      "execution_count": 59,
      "outputs": [
        {
          "output_type": "stream",
          "name": "stdout",
          "text": [
            "{'x': 1, 'y': 2, 'z': 3}\n"
          ]
        }
      ]
    },
    {
      "cell_type": "code",
      "source": [
        "# 30. Write a code to Convert a list of strings into a set\n",
        "strs = [\"apple\", \"banana\", \"apple\", \"mango\"]\n",
        "unique_strs = set(strs)\n",
        "print(unique_strs)"
      ],
      "metadata": {
        "colab": {
          "base_uri": "https://localhost:8080/"
        },
        "id": "96MslCtO32Tt",
        "outputId": "488ff6e6-1622-4cf0-f449-e8e7a9a4b509"
      },
      "execution_count": 60,
      "outputs": [
        {
          "output_type": "stream",
          "name": "stdout",
          "text": [
            "{'banana', 'apple', 'mango'}\n"
          ]
        }
      ]
    },
    {
      "cell_type": "code",
      "source": [],
      "metadata": {
        "id": "tAu8HukU330C"
      },
      "execution_count": null,
      "outputs": []
    }
  ]
}