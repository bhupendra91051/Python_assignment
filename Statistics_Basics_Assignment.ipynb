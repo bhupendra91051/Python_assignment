{
  "nbformat": 4,
  "nbformat_minor": 0,
  "metadata": {
    "colab": {
      "provenance": []
    },
    "kernelspec": {
      "name": "python3",
      "display_name": "Python 3"
    },
    "language_info": {
      "name": "python"
    }
  },
  "cells": [
    {
      "cell_type": "markdown",
      "source": [
        "#Assignment Code: DS-AG-005\n",
        "#Statistics Basics | Assignment"
      ],
      "metadata": {
        "id": "5e7yn4bK98b8"
      }
    },
    {
      "cell_type": "markdown",
      "source": [
        "Question 1: What is the difference between descriptive statistics and inferential statistics? Explain with examples.\n",
        "\n",
        "Answer:  \n",
        "Descriptive statistics summarize and describe the main features of a dataset. They provide simple summaries about the sample and the measures. Examples include mean, median, mode, standard deviation, etc.\n",
        "\n",
        "Inferential statistics, on the other hand, use a sample of data to make inferences or predictions about a population. It involves techniques like hypothesis testing, confidence intervals, and regression analysis.\n",
        "\n",
        "Example:\n",
        "\n",
        "Descriptive: “The average height of students in a class of 30 is 5.6 ft.”\n",
        "\n",
        "Inferential: “Based on a sample of 1000 people, we estimate the average height of adults in the country is 5.7 ft.”\n",
        "\n",
        "Question 2: What is sampling in statistics? Explain the differences between random and stratified sampling.\n",
        "\n",
        "Answer:  \n",
        "Sampling is the process of selecting a subset of individuals from a population to estimate characteristics of the whole population.\n",
        "\n",
        "Random Sampling: Every individual has an equal chance of being selected. This reduces bias.\n",
        "Example: Drawing 50 student names randomly from a list of 1000.\n",
        "\n",
        "Stratified Sampling: The population is divided into subgroups (strata) based on a characteristic, and samples are taken from each stratum.\n",
        "Example: Sampling students from each grade level (freshman, sophomore, junior, senior).\n",
        "\n",
        "Question 3: Define mean, median, and mode. Explain why these measures of central tendency are important.\n",
        "\n",
        "Answer:\n",
        "\n",
        "Mean: The average of a dataset.\n",
        "\n",
        "Median: The middle value when data is sorted.\n",
        "\n",
        "Mode: The value that appears most frequently.\n",
        "\n",
        "These are important because they help describe the center or typical value in a dataset, providing a summary that helps in understanding the data's distribution and comparison across groups.\n",
        "\n",
        "Question 4: Explain skewness and kurtosis. What does a positive skew imply about the data?  \n",
        "\n",
        "\n",
        "Answer:\n",
        "\n",
        "Skewness: Measures the asymmetry of the data distribution.\n",
        "\n",
        "Positive skew: Tail is longer on the right; most values are concentrated on the left.\n",
        "\n",
        "Negative skew: Tail is on the left; most values are on the right.\n",
        "\n",
        "Kurtosis: Measures the \"tailedness\" of the distribution.\n",
        "\n",
        "High kurtosis: Heavy tails (more outliers).\n",
        "\n",
        "Low kurtosis: Light tails (fewer outliers).\n",
        "\n",
        "Positive skew implies that a majority of the data values are low, with a few high outliers stretching the distribution to the right.\n",
        "\n",
        "Question 5: Implement a Python program to compute the mean, median, and mode of a given list of numbers.  \n",
        "numbers = [12, 15, 12, 18, 19, 12, 20, 22, 19, 19, 24, 24, 24, 26, 28]\n",
        "\n",
        "\n",
        "Answer:"
      ],
      "metadata": {
        "id": "fUexUHFG-K18"
      }
    },
    {
      "cell_type": "code",
      "execution_count": 1,
      "metadata": {
        "colab": {
          "base_uri": "https://localhost:8080/"
        },
        "id": "EnCSs8TM6m5k",
        "outputId": "9f043f19-b2a3-4672-b5b4-515d19e8d1bc"
      },
      "outputs": [
        {
          "output_type": "stream",
          "name": "stdout",
          "text": [
            "Mean: 19.6\n",
            "Median: 19\n",
            "Mode: 12\n"
          ]
        }
      ],
      "source": [
        "import statistics\n",
        "\n",
        "numbers = [12, 15, 12, 18, 19, 12, 20, 22, 19, 19, 24, 24, 24, 26, 28]\n",
        "\n",
        "mean = statistics.mean(numbers)\n",
        "median = statistics.median(numbers)\n",
        "mode = statistics.mode(numbers)\n",
        "\n",
        "print(\"Mean:\", mean)\n",
        "print(\"Median:\", median)\n",
        "print(\"Mode:\", mode)\n"
      ]
    },
    {
      "cell_type": "markdown",
      "source": [
        "Question 6: Compute the covariance and correlation coefficient between the following two datasets.    \n",
        "list_x = [10, 20, 30, 40, 50]   \n",
        "list_y = [15, 25, 35, 45, 60]\n",
        "\n",
        "Answer:"
      ],
      "metadata": {
        "id": "r1ftq21D_EXO"
      }
    },
    {
      "cell_type": "code",
      "source": [
        "import numpy as np\n",
        "\n",
        "list_x = [10, 20, 30, 40, 50]\n",
        "list_y = [15, 25, 35, 45, 60]\n",
        "\n",
        "covariance = np.cov(list_x, list_y)[0][1]\n",
        "correlation = np.corrcoef(list_x, list_y)[0][1]\n",
        "\n",
        "print(\"Covariance:\", covariance)\n",
        "print(\"Correlation Coefficient:\", correlation)\n"
      ],
      "metadata": {
        "colab": {
          "base_uri": "https://localhost:8080/"
        },
        "id": "vdri0GOn-zgR",
        "outputId": "1150cc6c-93a1-4d68-8131-e5adc0a4cd7d"
      },
      "execution_count": 2,
      "outputs": [
        {
          "output_type": "stream",
          "name": "stdout",
          "text": [
            "Covariance: 275.0\n",
            "Correlation Coefficient: 0.995893206467704\n"
          ]
        }
      ]
    },
    {
      "cell_type": "markdown",
      "source": [
        "Question 7: Write a Python script to draw a boxplot for the following numeric list and identify its outliers. Explain the result:   \n",
        "data = [12, 14, 14, 15, 18, 19, 19, 21, 22, 22, 23, 23, 24, 26, 29, 35]"
      ],
      "metadata": {
        "id": "bAMinOpoAKtj"
      }
    },
    {
      "cell_type": "code",
      "source": [
        "import matplotlib.pyplot as plt\n",
        "\n",
        "data = [12, 14, 14, 15, 18, 19, 19, 21, 22, 22, 23, 23, 24, 26, 29, 35]\n",
        "\n",
        "plt.boxplot(data)\n",
        "plt.title(\"Boxplot of Data\")\n",
        "plt.ylabel(\"Values\")\n",
        "plt.show()\n"
      ],
      "metadata": {
        "colab": {
          "base_uri": "https://localhost:8080/",
          "height": 452
        },
        "id": "WoyiJHPr_gKS",
        "outputId": "3084a13e-2d9a-4665-f6db-205ea4de75a8"
      },
      "execution_count": 3,
      "outputs": [
        {
          "output_type": "display_data",
          "data": {
            "text/plain": [
              "<Figure size 640x480 with 1 Axes>"
            ],
            "image/png": "[encoded data removed]"
          },
          "metadata": {}
        }
      ]
    },
    {
      "cell_type": "markdown",
      "source": [
        "Explanation:  \n",
        "The boxplot shows the median, quartiles, and potential outliers.\n",
        "In this dataset, 35 is likely an outlier, as it lies far beyond the upper whisker.    \n",
        "\n",
        "Question 8: You are working as a data analyst in an e-commerce company. The\n",
        "marketing team wants to know if there is a relationship between advertising spend and\n",
        "daily sales.\n",
        "● Explain how you would use covariance and correlation to explore this\n",
        "relationship.\n",
        "● Write Python code to compute the correlation between the two lists:\n",
        "advertising_spend = [200, 250, 300, 400, 500]   \n",
        "daily_sales = [2200, 2450, 2750, 3200, 4000]  \n",
        "Answer:  \n",
        "To understand the relationship between advertising spend and sales, we use:\n",
        "\n",
        "Covariance: Tells whether the variables change together.\n",
        "\n",
        "Correlation: Tells the strength and direction of the relationship."
      ],
      "metadata": {
        "id": "AOhM89IkArE9"
      }
    },
    {
      "cell_type": "code",
      "source": [
        "import numpy as np\n",
        "\n",
        "advertising_spend = [200, 250, 300, 400, 500]\n",
        "daily_sales = [2200, 2450, 2750, 3200, 4000]\n",
        "\n",
        "cov = np.cov(advertising_spend, daily_sales)[0][1]\n",
        "corr = np.corrcoef(advertising_spend, daily_sales)[0][1]\n",
        "\n",
        "print(\"Covariance:\", cov)\n",
        "print(\"Correlation:\", corr)\n"
      ],
      "metadata": {
        "colab": {
          "base_uri": "https://localhost:8080/"
        },
        "id": "POQeCkPQAbC-",
        "outputId": "7d7b4cbd-22d9-4b42-80d1-8340854108b6"
      },
      "execution_count": 4,
      "outputs": [
        {
          "output_type": "stream",
          "name": "stdout",
          "text": [
            "Covariance: 84875.0\n",
            "Correlation: 0.9935824101653329\n"
          ]
        }
      ]
    },
    {
      "cell_type": "markdown",
      "source": [
        "Interpretation:\n",
        "There is a strong positive correlation (≈ 1) between advertising spend and sales, suggesting increased spending leads to higher sales.  \n",
        "\n",
        "Question 9: Your team has collected customer satisfaction survey data on a scale of\n",
        "1-10 and wants to understand its distribution before launching a new product.\n",
        "● Explain which summary statistics and visualizations (e.g. mean, standard\n",
        "deviation, histogram) you’d use.\n",
        "● Write Python code to create a histogram using Matplotlib for the survey data:\n",
        "survey_scores = [7, 8, 5, 9, 6, 7, 8, 9, 10, 4, 7, 6, 9, 8, 7]  \n",
        "Answer:  \n",
        "To understand the distribution of survey scores:\n",
        "\n",
        "Use mean, median, mode, standard deviation for summary.\n",
        "\n",
        "Use a histogram to visualize the frequency distribution."
      ],
      "metadata": {
        "id": "ryNJrunUBXWF"
      }
    },
    {
      "cell_type": "code",
      "source": [
        "import matplotlib.pyplot as plt\n",
        "import statistics\n",
        "\n",
        "survey_scores = [7, 8, 5, 9, 6, 7, 8, 9, 10, 4, 7, 6, 9, 8, 7]\n",
        "\n",
        "mean = statistics.mean(survey_scores)\n",
        "std_dev = statistics.stdev(survey_scores)\n",
        "\n",
        "print(\"Mean:\", mean)\n",
        "print(\"Standard Deviation:\", std_dev)\n",
        "\n",
        "plt.hist(survey_scores, bins=6, color='skyblue', edgecolor='black')\n",
        "plt.title(\"Histogram of Survey Scores\")\n",
        "plt.xlabel(\"Score\")\n",
        "plt.ylabel(\"Frequency\")\n",
        "plt.grid(True)\n",
        "plt.show()\n",
        "\n"
      ],
      "metadata": {
        "colab": {
          "base_uri": "https://localhost:8080/",
          "height": 507
        },
        "id": "YJDz0H4DBV36",
        "outputId": "43237953-6ab5-4258-a4f4-2610d7801e99"
      },
      "execution_count": 5,
      "outputs": [
        {
          "output_type": "stream",
          "name": "stdout",
          "text": [
            "Mean: 7.333333333333333\n",
            "Standard Deviation: 1.632993161855452\n"
          ]
        },
        {
          "output_type": "display_data",
          "data": {
            "text/plain": [
              "<Figure size 640x480 with 1 Axes>"
            ],
            "image/png": "[encoded data removed]"
          },
          "metadata": {}
        }
      ]
    },
    {
      "cell_type": "markdown",
      "source": [
        "Interpretation:\n",
        "Most scores are clustered around 7–9, indicating generally high satisfaction. Histogram confirms a slight positive skew."
      ],
      "metadata": {
        "id": "gCfh3x7oB0CA"
      }
    },
    {
      "cell_type": "code",
      "source": [],
      "metadata": {
        "id": "pV1W0Yl_BxtD"
      },
      "execution_count": null,
      "outputs": []
    }
  ]
}