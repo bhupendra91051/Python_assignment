{
  "nbformat": 4,
  "nbformat_minor": 0,
  "metadata": {
    "colab": {
      "provenance": []
    },
    "kernelspec": {
      "name": "python3",
      "display_name": "Python 3"
    },
    "language_info": {
      "name": "python"
    }
  },
  "cells": [
    {
      "cell_type": "markdown",
      "source": [
        "#Assignment Code: DA-AG-015\n",
        "#Boosting Techniques | Assignment"
      ],
      "metadata": {
        "id": "wA6XeIl-u7PT"
      }
    },
    {
      "cell_type": "markdown",
      "source": [
        "Question 1: What is Boosting in Machine Learning? Explain how it improves weak learners.\n",
        "\n",
        "Answer:\n",
        "\n",
        "Boosting is a machine learning ensemble technique that combines multiple weak learners to create a strong learner. A weak learner is a model that performs just slightly better than random guessing. Boosting works by training models sequentially, where each new model focuses on the mistakes made by the previous ones. It assigns more weight to the instances that were misclassified, so the next model in the sequence pays more attention to them. Over time, this helps reduce the overall error and improve performance significantly. The final prediction is a weighted combination of all the weak models.\n",
        "\n",
        "Question 2: What is the difference between AdaBoost and Gradient Boosting in terms of how models are trained?\n",
        "\n",
        "Answer:\n",
        "\n",
        "AdaBoost and Gradient Boosting are both boosting algorithms but differ in how they handle errors during training. In AdaBoost, the algorithm adjusts the weights of the training instances, increasing the weight of those that were misclassified, so that subsequent models focus more on those difficult examples. In contrast, Gradient Boosting trains each new model to correct the residual errors (the difference between the actual and predicted values) of the previous model. Instead of reweighting data points, it uses gradient descent to minimize the loss function. This makes Gradient Boosting more flexible, as it can optimize different loss functions and is more suited for regression as well as classification.\n",
        "\n",
        "Question 3: How does regularization help in XGBoost?\n",
        "\n",
        "Answer:\n",
        "\n",
        "Regularization in XGBoost helps prevent overfitting and improves the model's ability to generalize to unseen data. XGBoost includes both L1 (Lasso) and L2 (Ridge) regularization terms in its objective function. L1 regularization helps in feature selection by encouraging sparsity in the model, while L2 regularization discourages large weights, promoting simpler models. By penalizing overly complex trees and unnecessary features, regularization leads to more robust and accurate predictions, especially on noisy datasets.\n",
        "\n",
        "Question 4: Why is CatBoost considered efficient for handling categorical data?\n",
        "\n",
        "Answer:\n",
        "\n",
        "CatBoost is designed to handle categorical data natively, which makes it highly efficient and accurate for datasets with categorical variables. Unlike other boosting algorithms that require manual preprocessing like one-hot encoding or label encoding, CatBoost automatically processes categorical features using a technique called \"ordered target statistics.\" This method avoids target leakage and overfitting. Additionally, CatBoost applies an advanced version of boosting called \"ordered boosting,\" which further reduces overfitting and ensures stable results even with default hyperparameters.\n",
        "\n",
        "Question 5: What are some real-world applications where boosting techniques are preferred over bagging methods?\n",
        "\n",
        "Answer:\n",
        "\n",
        "Boosting techniques are often preferred in applications where high accuracy and fine-grained performance are critical. These include fraud detection in banking, credit scoring, predicting customer churn, medical diagnosis, and click-through rate prediction in online advertising. In these cases, boosting's ability to focus on hard-to-predict instances and optimize for specific loss functions gives it an advantage over bagging methods like Random Forest, which are better suited for reducing variance and handling noisy datasets.\n",
        "\n",
        "\n",
        "\n",
        "Question 6: Write a Python program to:   \n",
        "● Train an AdaBoost Classifier on the Breast Cancer dataset  \n",
        "● Print the model accuracy  \n",
        "(Include your Python code and output in the code box below.)  \n",
        "\n",
        "Datasets:  \n",
        "● Use sklearn.datasets.load_breast_cancer() for classification tasks.\n",
        "● Use sklearn.datasets.fetch_california_housing() for regression\n",
        "tasks.   \n",
        "Answer:  "
      ],
      "metadata": {
        "id": "vl0tOZGovdDQ"
      }
    },
    {
      "cell_type": "code",
      "execution_count": 1,
      "metadata": {
        "colab": {
          "base_uri": "https://localhost:8080/"
        },
        "id": "LrPH6hAFu53C",
        "outputId": "d180b278-85d5-44dd-8d15-951c2088c367"
      },
      "outputs": [
        {
          "output_type": "stream",
          "name": "stdout",
          "text": [
            "Model Accuracy: 0.9736842105263158\n"
          ]
        }
      ],
      "source": [
        "# Import necessary libraries\n",
        "from sklearn.datasets import load_breast_cancer\n",
        "from sklearn.ensemble import AdaBoostClassifier\n",
        "from sklearn.model_selection import train_test_split\n",
        "from sklearn.metrics import accuracy_score\n",
        "\n",
        "# Load the Breast Cancer dataset\n",
        "data = load_breast_cancer()\n",
        "X, y = data.data, data.target\n",
        "\n",
        "# Split the dataset into training and testing sets\n",
        "X_train, X_test, y_train, y_test = train_test_split(\n",
        "    X, y, test_size=0.2, random_state=42\n",
        ")\n",
        "\n",
        "# Initialize and train the AdaBoost Classifier\n",
        "model = AdaBoostClassifier(n_estimators=100, random_state=42)\n",
        "model.fit(X_train, y_train)\n",
        "\n",
        "# Make predictions\n",
        "y_pred = model.predict(X_test)\n",
        "\n",
        "# Calculate and print the model accuracy\n",
        "accuracy = accuracy_score(y_test, y_pred)\n",
        "print(\"Model Accuracy:\", accuracy)\n"
      ]
    },
    {
      "cell_type": "markdown",
      "source": [
        "Question 7:  Write a Python program to:  \n",
        "● Train a Gradient Boosting Regressor on the California Housing dataset  \n",
        "● Evaluate performance using R-squared score  \n",
        "(Include your Python code and output in the code box below.)  \n",
        "Answer:"
      ],
      "metadata": {
        "id": "iblKpub0wQgZ"
      }
    },
    {
      "cell_type": "code",
      "source": [
        "# Import necessary libraries\n",
        "from sklearn.datasets import fetch_california_housing\n",
        "from sklearn.ensemble import GradientBoostingRegressor\n",
        "from sklearn.model_selection import train_test_split\n",
        "from sklearn.metrics import r2_score\n",
        "\n",
        "# Load the California Housing dataset\n",
        "data = fetch_california_housing()\n",
        "X, y = data.data, data.target\n",
        "\n",
        "# Split the dataset into training and testing sets\n",
        "X_train, X_test, y_train, y_test = train_test_split(\n",
        "    X, y, test_size=0.2, random_state=42\n",
        ")\n",
        "\n",
        "# Initialize and train the Gradient Boosting Regressor\n",
        "model = GradientBoostingRegressor(n_estimators=100, random_state=42)\n",
        "model.fit(X_train, y_train)\n",
        "\n",
        "# Make predictions\n",
        "y_pred = model.predict(X_test)\n",
        "\n",
        "# Evaluate using R-squared score\n",
        "r2 = r2_score(y_test, y_pred)\n",
        "print(\"R-squared Score:\", r2)\n"
      ],
      "metadata": {
        "colab": {
          "base_uri": "https://localhost:8080/"
        },
        "id": "Ug-2qGDkwJv-",
        "outputId": "512be070-3371-4f1e-f23e-353f4f7af10e"
      },
      "execution_count": 2,
      "outputs": [
        {
          "output_type": "stream",
          "name": "stdout",
          "text": [
            "R-squared Score: 0.7756446042829697\n"
          ]
        }
      ]
    },
    {
      "cell_type": "markdown",
      "source": [
        "Question 8: Write a Python program to:  \n",
        "● Train an XGBoost Classifier on the Breast Cancer dataset  \n",
        "● Tune the learning rate using GridSearchCV  \n",
        "● Print the best parameters and accuracy  \n",
        "(Include your Python code and output in the code box below.)  \n",
        "Answer:"
      ],
      "metadata": {
        "id": "Kw-2bWFawckT"
      }
    },
    {
      "cell_type": "code",
      "source": [
        "# Import necessary libraries\n",
        "from xgboost import XGBClassifier\n",
        "from sklearn.datasets import load_breast_cancer\n",
        "from sklearn.model_selection import train_test_split, GridSearchCV\n",
        "from sklearn.metrics import accuracy_score\n",
        "\n",
        "# Load the Breast Cancer dataset\n",
        "data = load_breast_cancer()\n",
        "X, y = data.data, data.target\n",
        "\n",
        "# Split the dataset into training and testing sets\n",
        "X_train, X_test, y_train, y_test = train_test_split(\n",
        "    X, y, test_size=0.2, random_state=42\n",
        ")\n",
        "\n",
        "# Initialize the XGBoost Classifier\n",
        "xgb_model = XGBClassifier(use_label_encoder=False, eval_metric='logloss', random_state=42)\n",
        "\n",
        "# Set up the parameter grid to tune the learning rate\n",
        "param_grid = {\n",
        "    'learning_rate': [0.01, 0.05, 0.1, 0.2]\n",
        "}\n",
        "\n",
        "# Initialize GridSearchCV\n",
        "grid_search = GridSearchCV(estimator=xgb_model, param_grid=param_grid, cv=3, scoring='accuracy')\n",
        "grid_search.fit(X_train, y_train)\n",
        "\n",
        "# Get best model from grid search\n",
        "best_model = grid_search.best_estimator_\n",
        "\n",
        "# Make predictions and evaluate accuracy\n",
        "y_pred = best_model.predict(X_test)\n",
        "accuracy = accuracy_score(y_test, y_pred)\n",
        "\n",
        "# Print the results\n",
        "print(\"Best Parameters:\", grid_search.best_params_)\n",
        "print(\"Accuracy on Test Set:\", accuracy)\n"
      ],
      "metadata": {
        "colab": {
          "base_uri": "https://localhost:8080/"
        },
        "id": "-lYFFdh3wWDb",
        "outputId": "b796f2d2-ad1c-4f1f-94f3-7fd69e51cc5c"
      },
      "execution_count": 3,
      "outputs": [
        {
          "output_type": "stream",
          "name": "stderr",
          "text": [
            "/usr/local/lib/python3.12/dist-packages/xgboost/training.py:183: UserWarning: [20:14:00] WARNING: /workspace/src/learner.cc:738: \n",
            "Parameters: { \"use_label_encoder\" } are not used.\n",
            "\n",
            "  bst.update(dtrain, iteration=i, fobj=obj)\n",
            "/usr/local/lib/python3.12/dist-packages/xgboost/training.py:183: UserWarning: [20:14:00] WARNING: /workspace/src/learner.cc:738: \n",
            "Parameters: { \"use_label_encoder\" } are not used.\n",
            "\n",
            "  bst.update(dtrain, iteration=i, fobj=obj)\n",
            "/usr/local/lib/python3.12/dist-packages/xgboost/training.py:183: UserWarning: [20:14:01] WARNING: /workspace/src/learner.cc:738: \n",
            "Parameters: { \"use_label_encoder\" } are not used.\n",
            "\n",
            "  bst.update(dtrain, iteration=i, fobj=obj)\n",
            "/usr/local/lib/python3.12/dist-packages/xgboost/training.py:183: UserWarning: [20:14:02] WARNING: /workspace/src/learner.cc:738: \n",
            "Parameters: { \"use_label_encoder\" } are not used.\n",
            "\n",
            "  bst.update(dtrain, iteration=i, fobj=obj)\n",
            "/usr/local/lib/python3.12/dist-packages/xgboost/training.py:183: UserWarning: [20:14:03] WARNING: /workspace/src/learner.cc:738: \n",
            "Parameters: { \"use_label_encoder\" } are not used.\n",
            "\n",
            "  bst.update(dtrain, iteration=i, fobj=obj)\n",
            "/usr/local/lib/python3.12/dist-packages/xgboost/training.py:183: UserWarning: [20:14:03] WARNING: /workspace/src/learner.cc:738: \n",
            "Parameters: { \"use_label_encoder\" } are not used.\n",
            "\n",
            "  bst.update(dtrain, iteration=i, fobj=obj)\n",
            "/usr/local/lib/python3.12/dist-packages/xgboost/training.py:183: UserWarning: [20:14:03] WARNING: /workspace/src/learner.cc:738: \n",
            "Parameters: { \"use_label_encoder\" } are not used.\n",
            "\n",
            "  bst.update(dtrain, iteration=i, fobj=obj)\n",
            "/usr/local/lib/python3.12/dist-packages/xgboost/training.py:183: UserWarning: [20:14:03] WARNING: /workspace/src/learner.cc:738: \n",
            "Parameters: { \"use_label_encoder\" } are not used.\n",
            "\n",
            "  bst.update(dtrain, iteration=i, fobj=obj)\n",
            "/usr/local/lib/python3.12/dist-packages/xgboost/training.py:183: UserWarning: [20:14:03] WARNING: /workspace/src/learner.cc:738: \n",
            "Parameters: { \"use_label_encoder\" } are not used.\n",
            "\n",
            "  bst.update(dtrain, iteration=i, fobj=obj)\n",
            "/usr/local/lib/python3.12/dist-packages/xgboost/training.py:183: UserWarning: [20:14:03] WARNING: /workspace/src/learner.cc:738: \n",
            "Parameters: { \"use_label_encoder\" } are not used.\n",
            "\n",
            "  bst.update(dtrain, iteration=i, fobj=obj)\n",
            "/usr/local/lib/python3.12/dist-packages/xgboost/training.py:183: UserWarning: [20:14:03] WARNING: /workspace/src/learner.cc:738: \n",
            "Parameters: { \"use_label_encoder\" } are not used.\n",
            "\n",
            "  bst.update(dtrain, iteration=i, fobj=obj)\n",
            "/usr/local/lib/python3.12/dist-packages/xgboost/training.py:183: UserWarning: [20:14:03] WARNING: /workspace/src/learner.cc:738: \n",
            "Parameters: { \"use_label_encoder\" } are not used.\n",
            "\n",
            "  bst.update(dtrain, iteration=i, fobj=obj)\n"
          ]
        },
        {
          "output_type": "stream",
          "name": "stdout",
          "text": [
            "Best Parameters: {'learning_rate': 0.1}\n",
            "Accuracy on Test Set: 0.956140350877193\n"
          ]
        },
        {
          "output_type": "stream",
          "name": "stderr",
          "text": [
            "/usr/local/lib/python3.12/dist-packages/xgboost/training.py:183: UserWarning: [20:14:03] WARNING: /workspace/src/learner.cc:738: \n",
            "Parameters: { \"use_label_encoder\" } are not used.\n",
            "\n",
            "  bst.update(dtrain, iteration=i, fobj=obj)\n"
          ]
        }
      ]
    },
    {
      "cell_type": "markdown",
      "source": [
        "Question 9: Write a Python program to:  \n",
        "● Train a CatBoost Classifier  \n",
        "● Plot the confusion matrix using seaborn  \n",
        "(Include your Python code and output in the code box below.)  \n",
        "Answer:   "
      ],
      "metadata": {
        "id": "f9xdLNMqw58N"
      }
    },
    {
      "cell_type": "code",
      "source": [
        "# Step 1: Install CatBoost in Google Colab\n",
        "!pip install --quiet catboost\n",
        "\n",
        "# Step 2: Import necessary libraries\n",
        "from catboost import CatBoostClassifier\n",
        "from sklearn.datasets import load_breast_cancer\n",
        "from sklearn.model_selection import train_test_split\n",
        "from sklearn.metrics import confusion_matrix\n",
        "import seaborn as sns\n",
        "import matplotlib.pyplot as plt\n",
        "\n",
        "# Step 3: Load Breast Cancer dataset\n",
        "data = load_breast_cancer()\n",
        "X, y = data.data, data.target\n",
        "\n",
        "# Step 4: Split data into training and testing sets\n",
        "X_train, X_test, y_train, y_test = train_test_split(\n",
        "    X, y, test_size=0.2, random_state=42\n",
        ")\n",
        "\n",
        "# Step 5: Initialize and train CatBoost Classifier (silent mode)\n",
        "model = CatBoostClassifier(verbose=0, random_state=42)\n",
        "model.fit(X_train, y_train)\n",
        "\n",
        "# Step 6: Predict on test data\n",
        "y_pred = model.predict(X_test)\n",
        "\n",
        "# Step 7: Generate confusion matrix\n",
        "cm = confusion_matrix(y_test, y_pred)\n",
        "\n",
        "# Step 8: Plot confusion matrix using seaborn\n",
        "plt.figure(figsize=(6, 4))\n",
        "sns.heatmap(cm, annot=True, fmt='d', cmap='Blues',\n",
        "            xticklabels=['Benign', 'Malignant'],\n",
        "            yticklabels=['Benign', 'Malignant'])\n",
        "plt.title('Confusion Matrix - CatBoost Classifier')\n",
        "plt.xlabel('Predicted Label')\n",
        "plt.ylabel('True Label')\n",
        "plt.tight_layout()\n",
        "plt.show()\n"
      ],
      "metadata": {
        "colab": {
          "base_uri": "https://localhost:8080/",
          "height": 424
        },
        "id": "Ek3-VWH3wkBK",
        "outputId": "ef9d78c2-75f6-4073-e636-9b98022bb272"
      },
      "execution_count": 7,
      "outputs": [
        {
          "output_type": "stream",
          "name": "stdout",
          "text": [
            "\u001b[2K   \u001b[90m━━━━━━━━━━━━━━━━━━━━━━━━━━━━━━━━━━━━━━━━\u001b[0m \u001b[32m99.2/99.2 MB\u001b[0m \u001b[31m10.2 MB/s\u001b[0m eta \u001b[36m0:00:00\u001b[0m\n",
            "\u001b[?25h"
          ]
        },
        {
          "output_type": "display_data",
          "data": {
            "text/plain": [
              "<Figure size 600x400 with 2 Axes>"
            ],
            "image/png": "[encoded data removed]"
          },
          "metadata": {}
        }
      ]
    },
    {
      "cell_type": "markdown",
      "source": [
        "Question 10: You're working for a FinTech company trying to predict loan default using\n",
        "customer demographics and transaction behavior.  \n",
        "The dataset is imbalanced, contains missing values, and has both numeric and\n",
        "categorical features.  \n",
        "Describe your step-by-step data science pipeline using boosting techniques:  \n",
        "● Data preprocessing & handling missing/categorical values  \n",
        "● Choice between AdaBoost, XGBoost, or CatBoost  \n",
        "● Hyperparameter tuning strategy  \n",
        "● Evaluation metrics you'd choose and why  \n",
        "● How the business would benefit from your model  \n",
        "(Include your Python code and output in the code box below.)  \n",
        "Answer:   \n",
        "Step-by-step Data Science Pipeline:-\n",
        "1. Data Preprocessing & Handling Missing/Categorical Values\n",
        "\n",
        "Missing values:\n",
        "\n",
        "For numeric features, impute missing values using median or mean.\n",
        "\n",
        "For categorical features, impute with the most frequent category or a special \"missing\" category.\n",
        "\n",
        "Categorical features:\n",
        "\n",
        "Use CatBoost which natively supports categorical variables without explicit encoding.\n",
        "\n",
        "Alternatively, use one-hot encoding or ordinal encoding if using XGBoost or AdaBoost.\n",
        "\n",
        "Imbalanced dataset:\n",
        "\n",
        "Use techniques like SMOTE (Synthetic Minority Over-sampling Technique) or class weighting during model training.\n",
        "\n",
        "CatBoost and XGBoost allow scale_pos_weight to balance classes.\n",
        "\n",
        "2. Choice Between AdaBoost, XGBoost, or CatBoost\n",
        "\n",
        "CatBoost is preferred here because:\n",
        "\n",
        "It handles categorical variables natively (no need for manual encoding).\n",
        "\n",
        "It manages missing values internally.\n",
        "\n",
        "Performs well on imbalanced data with proper class weighting.\n",
        "\n",
        "Fast training and robust performance.\n",
        "\n",
        "XGBoost is a strong alternative but requires manual preprocessing of categorical data.\n",
        "\n",
        "AdaBoost is less suitable here due to lack of native categorical handling and less flexibility with imbalanced data.\n",
        "\n",
        "3. Hyperparameter Tuning Strategy\n",
        "\n",
        "Use GridSearchCV or RandomizedSearchCV on key hyperparameters like:\n",
        "\n",
        "learning_rate\n",
        "\n",
        "depth (tree depth)\n",
        "\n",
        "iterations or n_estimators\n",
        "\n",
        "l2_leaf_reg (regularization)\n",
        "\n",
        "scale_pos_weight (to handle class imbalance)\n",
        "\n",
        "Use early stopping to prevent overfitting.\n",
        "\n",
        "Use cross-validation (e.g., StratifiedKFold for classification) to ensure robustness.\n",
        "\n",
        "4. Evaluation Metrics\n",
        "\n",
        "Primary metrics:\n",
        "\n",
        "AUC-ROC: Good for imbalanced datasets; measures ability to discriminate between classes.\n",
        "\n",
        "F1-Score: Harmonic mean of precision and recall, useful when false positives and false negatives are important.\n",
        "\n",
        "Secondary metrics:\n",
        "\n",
        "Precision and Recall: Depending on business priorities (e.g., minimizing false negatives or false positives).\n",
        "\n",
        "Confusion Matrix: For detailed error analysis.\n",
        "\n",
        "5. Business Benefits\n",
        "\n",
        "Accurate loan default prediction helps in:\n",
        "\n",
        "Minimizing financial loss by identifying risky customers upfront.\n",
        "\n",
        "Improving credit decision processes.\n",
        "\n",
        "Enhancing customer segmentation and personalized lending offers.\n",
        "\n",
        "Regulatory compliance by demonstrating robust risk modeling.\n",
        "\n",
        "The boosting model’s explainability (via feature importance) can provide insights to business stakeholders on key default drivers.\n",
        "\n",
        "Python Code Example Using CatBoost"
      ],
      "metadata": {
        "id": "tbGmY9g2yZeK"
      }
    },
    {
      "cell_type": "code",
      "source": [
        "# Install CatBoost (run once in Google Colab)\n",
        "!pip install --quiet catboost\n",
        "\n",
        "import pandas as pd\n",
        "import numpy as np\n",
        "from catboost import CatBoostClassifier, Pool\n",
        "from sklearn.model_selection import train_test_split\n",
        "from sklearn.metrics import roc_auc_score, f1_score, classification_report\n",
        "from sklearn.impute import SimpleImputer\n",
        "import matplotlib.pyplot as plt\n",
        "\n",
        "# --- Sample Dataset Creation (replace with your actual data) ---\n",
        "data = pd.DataFrame({\n",
        "    'age': [25, 45, np.nan, 35, 40, 50, 29, 38, 48, 33],\n",
        "    'income': [50000, 80000, 60000, np.nan, 65000, 90000, 48000, 75000, 70000, 62000],\n",
        "    'gender': ['M', 'F', 'F', 'M', np.nan, 'F', 'M', 'F', 'M', 'F'],\n",
        "    'transaction_count': [20, 40, 35, 10, 50, 30, 15, 45, 38, 25],\n",
        "    'defaulted': [0, 1, 0, 0, 1, 1, 0, 0, 1, 0]\n",
        "})\n",
        "\n",
        "# Separate features and target\n",
        "X = data.drop('defaulted', axis=1)\n",
        "y = data['defaulted']\n",
        "\n",
        "# Impute missing numeric values with median\n",
        "num_features = ['age', 'income', 'transaction_count']\n",
        "num_imputer = SimpleImputer(strategy='median')\n",
        "X[num_features] = num_imputer.fit_transform(X[num_features])\n",
        "\n",
        "# Fill missing categorical values with 'missing'\n",
        "cat_features = ['gender']\n",
        "X[cat_features] = X[cat_features].fillna('missing')\n",
        "\n",
        "# Convert categorical columns to string for CatBoost\n",
        "X[cat_features] = X[cat_features].astype(str)\n",
        "\n",
        "# Get categorical feature indices for CatBoost\n",
        "cat_indices = [X.columns.get_loc(col) for col in cat_features]\n",
        "\n",
        "# Split into train and test sets with stratification\n",
        "X_train, X_test, y_train, y_test = train_test_split(\n",
        "    X, y, test_size=0.2, random_state=42, stratify=y\n",
        ")\n",
        "\n",
        "# Calculate scale_pos_weight to handle imbalance\n",
        "scale_pos_weight = np.sum(y_train == 0) / np.sum(y_train == 1)\n",
        "\n",
        "# Create CatBoost Pools\n",
        "train_pool = Pool(X_train, y_train, cat_features=cat_indices)\n",
        "test_pool = Pool(X_test, y_test, cat_features=cat_indices)\n",
        "\n",
        "# Initialize and train CatBoostClassifier with imbalance handling\n",
        "model = CatBoostClassifier(\n",
        "    iterations=500,\n",
        "    learning_rate=0.1,\n",
        "    depth=6,\n",
        "    eval_metric='AUC',\n",
        "    random_seed=42,\n",
        "    early_stopping_rounds=50,\n",
        "    verbose=100,\n",
        "    scale_pos_weight=scale_pos_weight\n",
        ")\n",
        "\n",
        "model.fit(train_pool, eval_set=test_pool, use_best_model=True)\n",
        "\n",
        "# Predict on test set\n",
        "y_pred_proba = model.predict_proba(X_test)[:, 1]\n",
        "y_pred = model.predict(X_test)\n",
        "\n",
        "# Evaluation metrics\n",
        "print(f\"ROC AUC Score: {roc_auc_score(y_test, y_pred_proba):.4f}\")\n",
        "print(f\"F1 Score: {f1_score(y_test, y_pred):.4f}\")\n",
        "print(\"\\nClassification Report:\\n\", classification_report(y_test, y_pred))\n",
        "\n",
        "# Plot feature importance\n",
        "feature_importances = model.get_feature_importance()\n",
        "plt.barh(X_train.columns, feature_importances)\n",
        "plt.xlabel('Feature Importance')\n",
        "plt.title('Feature Importance')\n",
        "plt.show()\n"
      ],
      "metadata": {
        "colab": {
          "base_uri": "https://localhost:8080/",
          "height": 943
        },
        "id": "7aPQ9lNYxAZX",
        "outputId": "dd989b6b-bb66-4cc9-96a4-3ce74212f483"
      },
      "execution_count": 14,
      "outputs": [
        {
          "output_type": "stream",
          "name": "stdout",
          "text": [
            "0:\ttest: 0.5000000\tbest: 0.5000000 (0)\ttotal: 2.54ms\tremaining: 1.27s\n",
            "Stopped by overfitting detector  (50 iterations wait)\n",
            "\n",
            "bestTest = 1\n",
            "bestIteration = 1\n",
            "\n",
            "Shrink model to first 2 iterations.\n",
            "ROC AUC Score: 1.0000\n",
            "F1 Score: 0.0000\n",
            "\n",
            "Classification Report:\n",
            "               precision    recall  f1-score   support\n",
            "\n",
            "           0       0.50      1.00      0.67         1\n",
            "           1       0.00      0.00      0.00         1\n",
            "\n",
            "    accuracy                           0.50         2\n",
            "   macro avg       0.25      0.50      0.33         2\n",
            "weighted avg       0.25      0.50      0.33         2\n",
            "\n"
          ]
        },
        {
          "output_type": "stream",
          "name": "stderr",
          "text": [
            "/usr/local/lib/python3.12/dist-packages/sklearn/metrics/_classification.py:1565: UndefinedMetricWarning: Precision is ill-defined and being set to 0.0 in labels with no predicted samples. Use `zero_division` parameter to control this behavior.\n",
            "  _warn_prf(average, modifier, f\"{metric.capitalize()} is\", len(result))\n",
            "/usr/local/lib/python3.12/dist-packages/sklearn/metrics/_classification.py:1565: UndefinedMetricWarning: Precision is ill-defined and being set to 0.0 in labels with no predicted samples. Use `zero_division` parameter to control this behavior.\n",
            "  _warn_prf(average, modifier, f\"{metric.capitalize()} is\", len(result))\n",
            "/usr/local/lib/python3.12/dist-packages/sklearn/metrics/_classification.py:1565: UndefinedMetricWarning: Precision is ill-defined and being set to 0.0 in labels with no predicted samples. Use `zero_division` parameter to control this behavior.\n",
            "  _warn_prf(average, modifier, f\"{metric.capitalize()} is\", len(result))\n"
          ]
        },
        {
          "output_type": "display_data",
          "data": {
            "text/plain": [
              "<Figure size 640x480 with 1 Axes>"
            ],
            "image/png": "[encoded data removed]"
          },
          "metadata": {}
        }
      ]
    },
    {
      "cell_type": "code",
      "source": [],
      "metadata": {
        "id": "HQGD3gX2zEJA"
      },
      "execution_count": null,
      "outputs": []
    }
  ]
}