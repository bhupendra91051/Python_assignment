{
  "nbformat": 4,
  "nbformat_minor": 0,
  "metadata": {
    "colab": {
      "provenance": []
    },
    "kernelspec": {
      "name": "python3",
      "display_name": "Python 3"
    },
    "language_info": {
      "name": "python"
    }
  },
  "cells": [
    {
      "cell_type": "markdown",
      "source": [
        "#Assignment Code: DA-AG-006\n",
        "#Statistics Advanced - 1| Assignment"
      ],
      "metadata": {
        "id": "_Cb37UrdMKq3"
      }
    },
    {
      "cell_type": "markdown",
      "source": [
        "Question 1: What is a random variable in probability theory?\n",
        "\n",
        "Answer:  \n",
        "A random variable is a numerical outcome of a random process or experiment. It maps each possible outcome in a sample space to a real number. There are two main types: discrete (finite or countable outcomes) and continuous (infinite, uncountable outcomes). Random variables allow us to apply mathematical analysis and probability theory to uncertain situations.\n",
        "\n",
        "Question 2: What are the types of random variables?\n",
        "\n",
        "Answer:  \n",
        "There are two main types of random variables:\n",
        "\n",
        "Discrete Random Variable: Takes on a countable number of distinct values (e.g., number of heads in coin tosses).\n",
        "\n",
        "Continuous Random Variable: Takes on an infinite number of possible values within a range (e.g., height, weight, temperature).\n",
        "\n",
        "Each has its own probability distribution: probability mass function (PMF) for discrete, and probability density function (PDF) for continuous.\n",
        "\n",
        "Question 3: Explain the difference between discrete and continuous distributions.\n",
        "\n",
        "Answer:\n",
        "\n",
        "Discrete Distribution: Deals with variables that take specific and separate values. For example, a binomial distribution where outcomes are counts of successes.\n",
        "\n",
        "Continuous Distribution: Deals with variables that can take any value within a given range. For example, the normal distribution is continuous, and values can be decimals.\n",
        "In discrete distributions, probabilities are assigned to individual values, while in continuous, they are assigned over intervals.\n",
        "\n",
        "Question 4: What is a binomial distribution, and how is it used in probability?\n",
        "\n",
        "Answer:  \n",
        "A binomial distribution models the number of successes in a fixed number of independent trials of a binary experiment (each with only two outcomes: success/failure), with a constant probability of success.\n",
        "\n",
        "Formula:\n",
        "\n",
        "P(X=k)=(n,k) .p^k .(1−p)^n−k\n",
        "\n",
        "Use Case: For example, finding the probability of getting exactly 3 heads in 5 coin tosses.\n",
        "\n",
        "Question 5: What is the standard normal distribution, and why is it important?\n",
        "\n",
        "Answer:  \n",
        "The standard normal distribution is a special case of the normal distribution with a mean (μ) of 0 and standard deviation (σ) of 1.\n",
        "\n",
        "It's important because:\n",
        "\n",
        "Many statistical methods and tests are based on it.\n",
        "\n",
        "Any normal distribution can be converted to standard normal using z-scores.\n",
        "\n",
        "It simplifies probability calculations using standard normal tables.\n",
        "\n",
        "Question 6: What is the Central Limit Theorem (CLT), and why is it critical in statistics?\n",
        "\n",
        "Answer:  \n",
        "The Central Limit Theorem states that the sampling distribution of the sample mean approaches a normal distribution as the sample size becomes large (typically n ≥ 30), regardless of the shape of the original population distribution.\n",
        "\n",
        "Importance:\n",
        "\n",
        "It allows use of normal probability models for inference even if the population distribution is not normal.\n",
        "\n",
        "It's foundational for constructing confidence intervals and hypothesis testing.\n",
        "\n",
        "Question 7: What is the significance of confidence intervals in statistical analysis?\n",
        "\n",
        "Answer:  \n",
        "A confidence interval (CI) provides a range of values within which the true population parameter is expected to lie with a certain level of confidence (e.g., 95%).\n",
        "\n",
        "Significance:\n",
        "\n",
        "It quantifies uncertainty in estimation.\n",
        "\n",
        "Provides more information than a point estimate alone.\n",
        "\n",
        "Helps in decision-making by assessing the precision of estimates.\n",
        "\n",
        "Question 8: What is the concept of expected value in a probability distribution?\n",
        "\n",
        "Answer:  \n",
        "The expected value (or mean) of a random variable is the long-term average outcome if the experiment were repeated many times.\n",
        "\n",
        "For discrete variables:\n",
        "\n",
        "E(X)=∑xi​P(xi​)\n",
        "\n",
        "For continuous variables:\n",
        "\n",
        "E(X)=∫xf(x)dx\n",
        "\n",
        "It represents the \"center\" or \"balance point\" of a distribution.\n",
        "\n",
        "Question 9: Write a Python program to generate 1000 random numbers from a normal distribution with mean = 50 and standard deviation = 5. Compute its mean and standard deviation using NumPy, and draw a histogram to visualize the distribution.\n",
        "\n",
        "Answer:"
      ],
      "metadata": {
        "id": "POGfRXaAMPxz"
      }
    },
    {
      "cell_type": "code",
      "execution_count": 1,
      "metadata": {
        "colab": {
          "base_uri": "https://localhost:8080/",
          "height": 507
        },
        "id": "-x5XdWj8MGWf",
        "outputId": "bc54c488-7001-47a3-e52b-d3bbb84f85f5"
      },
      "outputs": [
        {
          "output_type": "stream",
          "name": "stdout",
          "text": [
            "Mean: 50.01\n",
            "Standard Deviation: 4.96\n"
          ]
        },
        {
          "output_type": "display_data",
          "data": {
            "text/plain": [
              "<Figure size 640x480 with 1 Axes>"
            ],
            "image/png": "[encoded data removed]"
          },
          "metadata": {}
        }
      ],
      "source": [
        "import numpy as np\n",
        "import matplotlib.pyplot as plt\n",
        "\n",
        "# Generate 1000 random numbers from a normal distribution\n",
        "data = np.random.normal(loc=50, scale=5, size=1000)\n",
        "\n",
        "# Compute mean and standard deviation\n",
        "mean = np.mean(data)\n",
        "std_dev = np.std(data)\n",
        "\n",
        "# Print results\n",
        "print(f\"Mean: {mean:.2f}\")\n",
        "print(f\"Standard Deviation: {std_dev:.2f}\")\n",
        "\n",
        "# Plot histogram\n",
        "plt.hist(data, bins=30, color='skyblue', edgecolor='black')\n",
        "plt.title('Histogram of Normally Distributed Data (μ=50, σ=5)')\n",
        "plt.xlabel('Value')\n",
        "plt.ylabel('Frequency')\n",
        "plt.grid(True)\n",
        "plt.show()\n"
      ]
    },
    {
      "cell_type": "markdown",
      "source": [
        "Question 10: You are working as a data analyst for a retail company. The company has\n",
        "collected daily sales data for 2 years and wants you to identify the overall sales trend.\n",
        "daily_sales = [220, 245, 210, 265, 230, 250, 260, 275, 240, 255,\n",
        "235, 260, 245, 250, 225, 270, 265, 255, 250, 260]   \n",
        "● Explain how you would apply the Central Limit Theorem to estimate the average sales\n",
        "with a 95% confidence interval.   \n",
        "● Write the Python code to compute the mean sales and its confidence interval.\n",
        "(Include your Python code and output in the code box below.)  \n",
        "\n",
        "Answer:    \n",
        "\n",
        "Using the CLT, we can assume that the distribution of the sample mean is approximately normal since the sample size is moderately large (n=20). We can use the sample mean and standard deviation to estimate a 95% confidence interval for the population mean daily sales.\n",
        "\n",
        "The 95% confidence interval is given by:\n",
        "\n",
        "x̄ ± Zα/2 * (s / √n)\n",
        "\t​\n",
        "\n",
        "\n",
        "Where:\n",
        "\n",
        "x̄ is the sample mean\n",
        "\n",
        "s is the sample standard deviation\n",
        "\n",
        "\n",
        "n is the sample size\n",
        "\n",
        "Z\n",
        "α/2\n",
        "\t​\n",
        "=1.96 for 95% confidence\n",
        "\n",
        "Python Code to Compute Mean and 95% Confidence Interval:"
      ],
      "metadata": {
        "id": "VafOFOL7PmKj"
      }
    },
    {
      "cell_type": "code",
      "source": [
        "import numpy as np\n",
        "import scipy.stats as stats\n",
        "\n",
        "# Daily sales data\n",
        "daily_sales = [220, 245, 210, 265, 230, 250, 260, 275, 240, 255,\n",
        "               235, 260, 245, 250, 225, 270, 265, 255, 250, 260]\n",
        "\n",
        "# Sample statistics\n",
        "mean_sales = np.mean(daily_sales)\n",
        "std_sales = np.std(daily_sales, ddof=1)\n",
        "n = len(daily_sales)\n",
        "\n",
        "# 95% Confidence Interval\n",
        "z = 1.96\n",
        "margin_error = z * (std_sales / np.sqrt(n))\n",
        "ci_lower = mean_sales - margin_error\n",
        "ci_upper = mean_sales + margin_error\n",
        "\n",
        "# Print results\n",
        "print(f\"Mean Daily Sales: {mean_sales:.2f}\")\n",
        "print(f\"95% Confidence Interval: ({ci_lower:.2f}, {ci_upper:.2f})\")\n"
      ],
      "metadata": {
        "colab": {
          "base_uri": "https://localhost:8080/"
        },
        "id": "IurCd_uhPXJE",
        "outputId": "d7eee739-1c18-42a6-f25e-c9c0631a15de"
      },
      "execution_count": 2,
      "outputs": [
        {
          "output_type": "stream",
          "name": "stdout",
          "text": [
            "Mean Daily Sales: 248.25\n",
            "95% Confidence Interval: (240.68, 255.82)\n"
          ]
        }
      ]
    },
    {
      "cell_type": "code",
      "source": [],
      "metadata": {
        "id": "OcU9HRnUS7ZG"
      },
      "execution_count": null,
      "outputs": []
    }
  ]
}