{
  "nbformat": 4,
  "nbformat_minor": 0,
  "metadata": {
    "colab": {
      "provenance": []
    },
    "kernelspec": {
      "name": "python3",
      "display_name": "Python 3"
    },
    "language_info": {
      "name": "python"
    }
  },
  "cells": [
    {
      "cell_type": "markdown",
      "source": [
        "#Python Basics"
      ],
      "metadata": {
        "id": "t_xQe4zkYJri"
      }
    },
    {
      "cell_type": "markdown",
      "source": [
        "Q1. Explain the key features of Python that make it a popular choice for programming.\n",
        "- Python is a widely-used high-level programming language known for its simplicity and powerful capabilities. Key features that make Python popular include:\n",
        "\n",
        "Simple and Readable Syntax – Python code is easy to read and write, making it beginner-friendly.\n",
        "\n",
        "Interpreted Language – Python executes code line-by-line, which helps in debugging.\n",
        "\n",
        "Dynamically Typed – You don't need to declare variable types; Python infers them at runtime.\n",
        "\n",
        "Extensive Standard Libraries – Python includes built-in modules and third-party packages for tasks such as web development, data analysis, and machine learning.\n",
        "\n",
        "Cross-platform Compatibility – Python can run on various platforms like Windows, macOS, and Linux.\n",
        "\n",
        "Object-Oriented Programming (OOP) – Supports OOP concepts such as classes and inheritance.\n",
        "\n",
        "Large Community Support – A vast community provides libraries, support, and documentation.\n",
        "\n",
        "Q2. Describe the role of predefined keywords in Python and provide examples of how they are used in a program.\n",
        "- Predefined keywords in Python are reserved words that have special meanings and form the syntax of the language. These keywords cannot be used as variable names, function names, or any other identifiers in a program. They are used to define the structure and flow of the program. Examples of Python keywords include if, else, for, while, def, return, True, False, and many more. These keywords allow developers to write logical and structured code. For instance, the if and else keywords are used for decision-making, def is used to define a function, and return is used to return values from a function.\n",
        "\n",
        "Example:"
      ],
      "metadata": {
        "id": "3i09ciEfawSI"
      }
    },
    {
      "cell_type": "code",
      "execution_count": 4,
      "metadata": {
        "colab": {
          "base_uri": "https://localhost:8080/"
        },
        "id": "mD5fxT_mYISv",
        "outputId": "10e9ffc8-669d-4a39-898f-7d7a6db255e7"
      },
      "outputs": [
        {
          "output_type": "stream",
          "name": "stdout",
          "text": [
            "Hello, Alice\n"
          ]
        }
      ],
      "source": [
        "def greet(name):       # 'def' is a keyword for defining a function\n",
        "    if name:           # 'if' is a conditional keyword\n",
        "        return \"Hello, \" + name\n",
        "    else:              # 'else' handles the alternative case\n",
        "        return \"Hello, Guest\"\n",
        "\n",
        "print(greet(\"Alice\"))\n"
      ]
    },
    {
      "cell_type": "markdown",
      "source": [
        "Q3. Compare and contrast mutable and immutable objects in Python with examples.\n",
        "- In Python, data types are classified into mutable and immutable based on whether their values can be changed after they are created. Mutable objects are those whose values can be modified in place. Examples of mutable objects include lists, dictionaries, and sets. On the other hand, immutable objects cannot be changed once they are created. Examples include integers, floats, strings, and tuples. When we perform an operation that seems to modify an immutable object, Python actually creates a new object in memory.\n",
        "\n",
        "Example of mutable object:"
      ],
      "metadata": {
        "id": "UuRvCLZ9bu0s"
      }
    },
    {
      "cell_type": "code",
      "source": [
        "my_list = [1, 2, 3]\n",
        "my_list.append(4)\n",
        "print(my_list)\n"
      ],
      "metadata": {
        "colab": {
          "base_uri": "https://localhost:8080/"
        },
        "id": "EWnvq0Xkbp_V",
        "outputId": "29f24d61-381a-425e-daf7-a0f4b1642f38"
      },
      "execution_count": 6,
      "outputs": [
        {
          "output_type": "stream",
          "name": "stdout",
          "text": [
            "[1, 2, 3, 4]\n"
          ]
        }
      ]
    },
    {
      "cell_type": "markdown",
      "source": [
        "Example of immutable object:"
      ],
      "metadata": {
        "id": "RABwyTCFcY7l"
      }
    },
    {
      "cell_type": "code",
      "source": [
        "my_string = \"Hello\"\n",
        "my_string = my_string + \" World\"\n",
        "print(my_string)"
      ],
      "metadata": {
        "colab": {
          "base_uri": "https://localhost:8080/"
        },
        "id": "hF5Zmz-UcFrf",
        "outputId": "cf342550-5147-4f8b-b38c-fd4b83ebee74"
      },
      "execution_count": 5,
      "outputs": [
        {
          "output_type": "stream",
          "name": "stdout",
          "text": [
            "Hello World\n"
          ]
        }
      ]
    },
    {
      "cell_type": "markdown",
      "source": [
        "n the first example, the list is modified directly. In the second example, a new string is created, and the original string remains unchanged.\n",
        "\n",
        "Q4. Explain the concept of type casting in Python with examples.\n",
        "- Type casting in Python refers to converting one data type into another. This is useful when we need to perform operations that require a certain data type. Python supports both implicit and explicit type casting. Implicit casting is done automatically by Python when it converts a smaller data type to a larger one (e.g., int to float). Explicit casting, on the other hand, is done manually by using functions such as int(), float(), str(), etc.\n",
        "\n",
        "Example of implicit casting:"
      ],
      "metadata": {
        "id": "r9AP_XK0csDf"
      }
    },
    {
      "cell_type": "code",
      "source": [
        "x = 5\n",
        "y = 2.5\n",
        "result = x + y  # x is converted to float automatically\n",
        "print(result)\n"
      ],
      "metadata": {
        "colab": {
          "base_uri": "https://localhost:8080/"
        },
        "id": "B1o-6aaIcowU",
        "outputId": "3b79d9ee-f31f-47f0-f5e3-7ce37bbca602"
      },
      "execution_count": 7,
      "outputs": [
        {
          "output_type": "stream",
          "name": "stdout",
          "text": [
            "7.5\n"
          ]
        }
      ]
    },
    {
      "cell_type": "markdown",
      "source": [
        "Example of explicit casting:"
      ],
      "metadata": {
        "id": "Nh_x6KTidBOL"
      }
    },
    {
      "cell_type": "code",
      "source": [
        "a = \"100\"\n",
        "b = int(a)\n",
        "print(b + 20)\n"
      ],
      "metadata": {
        "colab": {
          "base_uri": "https://localhost:8080/"
        },
        "id": "gFelLz5mc_zI",
        "outputId": "faa501f6-bf02-4617-8db5-9501af657ebb"
      },
      "execution_count": 8,
      "outputs": [
        {
          "output_type": "stream",
          "name": "stdout",
          "text": [
            "120\n"
          ]
        }
      ]
    },
    {
      "cell_type": "markdown",
      "source": [
        "In the above examples, we see how type casting is used to ensure compatibility between different data types during operations.\n",
        "\n",
        "Q5. Discuss the different types of operators in Python and provide examples of how they are used.\n",
        "- Operators in Python are symbols or keywords used to perform operations on variables and values. There are several types of operators in Python. Arithmetic operators are used for basic mathematical operations such as addition (+), subtraction (-), multiplication (*), division (/), modulus (%), exponentiation (**), and floor division (//). Assignment operators like =, +=, -=, etc., are used to assign and update values. Comparison operators such as ==, !=, >, <, >=, and <= are used to compare values. Logical operators like and, or, and not are used to combine multiple conditions. Bitwise operators work at the binary level. Membership operators (in, not in) check for presence in a sequence, and identity operators (is, is not) check if two variables point to the same object.\n",
        "\n",
        "Example:"
      ],
      "metadata": {
        "id": "HrjibxCCdLoZ"
      }
    },
    {
      "cell_type": "code",
      "source": [
        "x = 10\n",
        "y = 5\n",
        "print(x + y)          # Arithmetic: Output 15\n",
        "print(x > y)          # Comparison: Output True\n",
        "print(x > 0 and y < 10)  # Logical: Output True\n",
        "print(5 in [1, 2, 3, 5])  # Membership: Output True\n"
      ],
      "metadata": {
        "colab": {
          "base_uri": "https://localhost:8080/"
        },
        "id": "Je813QArdKIt",
        "outputId": "4f730c49-6d27-4048-f5ed-b4549d63c396"
      },
      "execution_count": 9,
      "outputs": [
        {
          "output_type": "stream",
          "name": "stdout",
          "text": [
            "15\n",
            "True\n",
            "True\n",
            "True\n"
          ]
        }
      ]
    },
    {
      "cell_type": "markdown",
      "source": [
        "Q6. How do conditional statements work in Python? Illustrate with examples.\n",
        "- Conditional statements in Python are used to execute code only when certain conditions are met. These statements control the flow of the program based on boolean expressions. The most commonly used conditional statements in Python are if, elif, and else. The if statement checks a condition and runs the block of code if the condition is true. The elif (else if) allows checking multiple conditions. The else block runs if none of the previous conditions are true.\n",
        "\n",
        "Example:"
      ],
      "metadata": {
        "id": "Aw0Ff3yvdjhJ"
      }
    },
    {
      "cell_type": "code",
      "source": [
        "marks = 75\n",
        "\n",
        "if marks >= 90:\n",
        "    print(\"Grade: A\")\n",
        "elif marks >= 80:\n",
        "    print(\"Grade: B\")\n",
        "elif marks >= 70:\n",
        "    print(\"Grade: C\")\n",
        "else:\n",
        "    print(\"Grade: D\")\n"
      ],
      "metadata": {
        "colab": {
          "base_uri": "https://localhost:8080/"
        },
        "id": "U5uaCppBdeeI",
        "outputId": "129ad738-201e-4ad4-8b1d-e81b1195d7cf"
      },
      "execution_count": 10,
      "outputs": [
        {
          "output_type": "stream",
          "name": "stdout",
          "text": [
            "Grade: C\n"
          ]
        }
      ]
    },
    {
      "cell_type": "markdown",
      "source": [
        "In this example, Python checks each condition from top to bottom and executes the corresponding block when the condition is met.\n",
        "\n",
        "Q7. Describe the different types of loops in Python and their use cases with examples.\n",
        "- Loops in Python are used to execute a block of code repeatedly. Python supports two main types of loops: for loops and while loops. The for loop is used when we want to iterate over a sequence like a list, string, or range. It is generally used when the number of iterations is known. The while loop is used when we want to repeat a block of code as long as a condition remains true. It is suitable when the number of iterations is not known in advance. We can also use nested loops, where one loop runs inside another, which is useful in working with multi-dimensional data or grids.\n",
        "\n",
        "Example of a for loop:"
      ],
      "metadata": {
        "id": "xClGP5KFdwXU"
      }
    },
    {
      "cell_type": "code",
      "source": [
        "for i in range(3):\n",
        "    print(\"For loop iteration:\", i)\n"
      ],
      "metadata": {
        "colab": {
          "base_uri": "https://localhost:8080/"
        },
        "id": "yYtg3fMsdr3j",
        "outputId": "59231c80-ebc9-4934-86e9-eec9cbbec9c8"
      },
      "execution_count": 11,
      "outputs": [
        {
          "output_type": "stream",
          "name": "stdout",
          "text": [
            "For loop iteration: 0\n",
            "For loop iteration: 1\n",
            "For loop iteration: 2\n"
          ]
        }
      ]
    },
    {
      "cell_type": "markdown",
      "source": [
        "Example of a while loop:"
      ],
      "metadata": {
        "id": "z2w2s-HUeErN"
      }
    },
    {
      "cell_type": "code",
      "source": [
        "count = 0\n",
        "while count < 3:\n",
        "    print(\"While loop count:\", count)\n",
        "    count += 1\n"
      ],
      "metadata": {
        "colab": {
          "base_uri": "https://localhost:8080/"
        },
        "id": "O22VE-2-d_jk",
        "outputId": "cd319912-9a42-4c48-b3bd-852d2d616eef"
      },
      "execution_count": 12,
      "outputs": [
        {
          "output_type": "stream",
          "name": "stdout",
          "text": [
            "While loop count: 0\n",
            "While loop count: 1\n",
            "While loop count: 2\n"
          ]
        }
      ]
    },
    {
      "cell_type": "markdown",
      "source": [
        "Example of a nested loop:"
      ],
      "metadata": {
        "id": "OaJ2HkZceJj1"
      }
    },
    {
      "cell_type": "code",
      "source": [
        "for i in range(2):\n",
        "    for j in range(2):\n",
        "        print(f\"i={i}, j={j}\")\n"
      ],
      "metadata": {
        "colab": {
          "base_uri": "https://localhost:8080/"
        },
        "id": "rZfTV-NSeIX-",
        "outputId": "bbc4eee7-cd0a-485e-84d8-7b51a2064e9e"
      },
      "execution_count": 13,
      "outputs": [
        {
          "output_type": "stream",
          "name": "stdout",
          "text": [
            "i=0, j=0\n",
            "i=0, j=1\n",
            "i=1, j=0\n",
            "i=1, j=1\n"
          ]
        }
      ]
    },
    {
      "cell_type": "markdown",
      "source": [
        "These loops help reduce code repetition and allow automation of repetitive tasks."
      ],
      "metadata": {
        "id": "YcPHgYjveTw1"
      }
    },
    {
      "cell_type": "code",
      "source": [],
      "metadata": {
        "id": "sGHV_26-eQRW"
      },
      "execution_count": null,
      "outputs": []
    }
  ]
}